{
  "nbformat": 4,
  "nbformat_minor": 0,
  "metadata": {
    "colab": {
      "name": "Gauss-Seidel.ipynb",
      "provenance": [],
      "authorship_tag": "ABX9TyPrZz8cHbz8JGnPQQuR3fo7",
      "include_colab_link": true
    },
    "kernelspec": {
      "name": "python3",
      "display_name": "Python 3"
    },
    "language_info": {
      "name": "python"
    }
  },
  "cells": [
    {
      "cell_type": "markdown",
      "metadata": {
        "id": "view-in-github",
        "colab_type": "text"
      },
      "source": [
        "<a href=\"https://colab.research.google.com/github/edufs29/Faculdade-CalculoNumerico/blob/main/Gauss_Seidel.ipynb\" target=\"_parent\"><img src=\"https://colab.research.google.com/assets/colab-badge.svg\" alt=\"Open In Colab\"/></a>"
      ]
    },
    {
      "cell_type": "code",
      "execution_count": 9,
      "metadata": {
        "colab": {
          "base_uri": "https://localhost:8080/"
        },
        "id": "dLoFg_9vXOa7",
        "outputId": "765d9f98-c4db-46d7-8fc9-a42c9e31516b"
      },
      "outputs": [
        {
          "output_type": "stream",
          "name": "stdout",
          "text": [
            "Equações para as iterações\n",
            "x1=(2*x2-x3)/5\n",
            "x2=(x3-x1)/2\n",
            "x3=(x1+x2)/3\n",
            "Parâmetro inicial Matriz X0\n",
            "[[0.]\n",
            " [0.]\n",
            " [0.]]\n",
            " k =  1\n",
            " x1 =  2\n",
            " x2 =  -2\n",
            " x3 =  2\n",
            "|||||||||||||||||||||||||||||||||||||||||||||||||||\n",
            " k =  2\n",
            " x1 =  1\n",
            " x2 =  -1\n",
            " x3 =  2\n",
            "|||||||||||||||||||||||||||||||||||||||||||||||||||\n",
            " k =  3\n",
            " x1 =  1\n",
            " x2 =  -1\n",
            " x3 =  2\n",
            "|||||||||||||||||||||||||||||||||||||||||||||||||||\n",
            " k =  4\n",
            " x1 =  1\n",
            " x2 =  -1\n",
            " x3 =  2\n",
            "|||||||||||||||||||||||||||||||||||||||||||||||||||\n",
            " k =  5\n",
            " x1 =  1\n",
            " x2 =  -1\n",
            " x3 =  2\n",
            "|||||||||||||||||||||||||||||||||||||||||||||||||||\n",
            " k =  6\n",
            " x1 =  1\n",
            " x2 =  -1\n",
            " x3 =  2\n",
            "|||||||||||||||||||||||||||||||||||||||||||||||||||\n",
            " k =  7\n",
            " x1 =  1\n",
            " x2 =  -1\n",
            " x3 =  2\n",
            "|||||||||||||||||||||||||||||||||||||||||||||||||||\n",
            " k =  8\n",
            " x1 =  1\n",
            " x2 =  -1\n",
            " x3 =  2\n",
            "|||||||||||||||||||||||||||||||||||||||||||||||||||\n",
            " k =  9\n",
            " x1 =  1\n",
            " x2 =  -1\n",
            " x3 =  2\n",
            "|||||||||||||||||||||||||||||||||||||||||||||||||||\n",
            " k =  10\n",
            " x1 =  1\n",
            " x2 =  -1\n",
            " x3 =  2\n",
            "|||||||||||||||||||||||||||||||||||||||||||||||||||\n",
            "A ultima iteracao 10  nos diz que:\n",
            "A Matriz Solução é\n",
            "[[ 1]\n",
            " [-1]\n",
            " [ 2]]\n"
          ]
        }
      ],
      "source": [
        "# coding=utf-8\n",
        "# This is a sample Python script.\n",
        "\n",
        "import numpy as np\n",
        "\n",
        "# Criando as matrizes\n",
        "\n",
        "# Definindo as equações a serem utilizadas\n",
        "print ('Equações para as iterações')\n",
        "print('x1=(2*x2-x3+9)/5')\n",
        "print('x2=(x3-x1-3)/2')\n",
        "print('x3=(x1+x2+6)/3')\n",
        "\n",
        "# Identificando as variáveis e o parâmetro inicial\n",
        "x1 = 0.0\n",
        "x2 = 0.0\n",
        "x3 = 0.0\n",
        "k = 0\n",
        "\n",
        "matrix_X0 = np.array([[x1], [x2], [x3]])\n",
        "print('Parâmetro inicial Matriz X0')\n",
        "print(matrix_X0)\n",
        "\n",
        "\n",
        "while k < 10:\n",
        "    # Determine os novos valores das variáveis\n",
        "    k1 = k+1  # Incremento no numero de iterações\n",
        "    x11 = (2*x2-x3+9)/5\n",
        "    x21 = (x3-x11-3)/2\n",
        "    x31 = (x11+x21+6)/3\n",
        "\n",
        "    # Calculando o erro\n",
        "    error_x1 = abs(x11 - x1)\n",
        "    error_x2 = abs(x21 - x2)\n",
        "    error_x3 = abs(x31 - x3)\n",
        "\n",
        "    # Atualização dos valores das variaveis\n",
        "\n",
        "    k = k1\n",
        "    x1 = round(x11)\n",
        "    x2 = round(x21)\n",
        "    x3 = round(x31)\n",
        "\n",
        "    print(' k = ', k)\n",
        "    print(' x1 = ', x1)\n",
        "    print(' x2 = ', x2)\n",
        "    print(' x3 = ', x3)\n",
        "    print('|||||||||||||||||||||||||||||||||||||||||||||||||||')\n",
        "else:\n",
        "    print('A ultima iteracao', k, ' nos diz que:')\n",
        "    matrix_S = np.array([[x1], [x2], [x3]])\n",
        "    print('A Matriz Solução é')\n",
        "    print(matrix_S)\n"
      ]
    }
  ]
}