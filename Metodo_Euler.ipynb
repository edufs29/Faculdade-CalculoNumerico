{
  "nbformat": 4,
  "nbformat_minor": 0,
  "metadata": {
    "colab": {
      "name": "Metodo_Euler.ipynb",
      "provenance": [],
      "authorship_tag": "ABX9TyOAhz9N3o7t35gwjmTHEzSi",
      "include_colab_link": true
    },
    "kernelspec": {
      "name": "python3",
      "display_name": "Python 3"
    },
    "language_info": {
      "name": "python"
    }
  },
  "cells": [
    {
      "cell_type": "markdown",
      "metadata": {
        "id": "view-in-github",
        "colab_type": "text"
      },
      "source": [
        "<a href=\"https://colab.research.google.com/github/edufs29/Faculdade-CalculoNumerico/blob/main/Metodo_Euler.ipynb\" target=\"_parent\"><img src=\"https://colab.research.google.com/assets/colab-badge.svg\" alt=\"Open In Colab\"/></a>"
      ]
    },
    {
      "cell_type": "code",
      "execution_count": 19,
      "metadata": {
        "colab": {
          "base_uri": "https://localhost:8080/"
        },
        "id": "iFywwdu3hnmD",
        "outputId": "89c3995e-05ce-4d08-a624-f4a438655abb"
      },
      "outputs": [
        {
          "output_type": "stream",
          "name": "stdout",
          "text": [
            "A equção diferencial é: y`-2x+y=0\n",
            "Isolando o y: y`=2x-y\n",
            "0.1\n",
            "0.2\n",
            "0.3\n",
            "0.4\n",
            "0.5\n",
            "0.6\n",
            "0.7\n",
            "0.8\n",
            "0.9\n",
            "1.0\n",
            "A solução percorreu 10.0 iterações\n",
            "O valor para Y foi: 1.474163\n"
          ]
        }
      ],
      "source": [
        "# Equação diferencialpelo metodo de Euler\n",
        "\n",
        "#Definindo a equação\n",
        "print('A equção diferencial é: y`-2x+y=0')\n",
        "print('Isolando o y: y`=2x-y')\n",
        "\n",
        "#Definindo os parâmetros iniciais\n",
        "\n",
        "x = 0.0\n",
        "y = 2.0\n",
        "h = 0.1\n",
        "k = 0\n",
        "xS = 1.0\n",
        "\n",
        "#Iniciando as iterações\n",
        "while x != xS:\n",
        "  k = k + 1.0\n",
        "  y = round(y + ((h/2) * ((2*x - y) + ((2*(x+h))-(y+(h*(2*x-y)))))), 6)\n",
        "  x = round(x + h,1)\n",
        "  print(x)\n",
        "else:\n",
        "  print('A solução percorreu '+str(k)+' iterações' )\n",
        "  print('O valor para Y foi: '+str(y))\n",
        "\n",
        "\n"
      ]
    }
  ]
}