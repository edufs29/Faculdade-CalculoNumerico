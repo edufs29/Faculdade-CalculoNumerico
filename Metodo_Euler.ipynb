{
  "nbformat": 4,
  "nbformat_minor": 0,
  "metadata": {
    "colab": {
      "name": "Metodo_Euler.ipynb",
      "provenance": [],
      "authorship_tag": "ABX9TyM9CBwJ9J4rTVlA83hri2Ex",
      "include_colab_link": true
    },
    "kernelspec": {
      "name": "python3",
      "display_name": "Python 3"
    },
    "language_info": {
      "name": "python"
    }
  },
  "cells": [
    {
      "cell_type": "markdown",
      "metadata": {
        "id": "view-in-github",
        "colab_type": "text"
      },
      "source": [
        "<a href=\"https://colab.research.google.com/github/edufs29/Faculdade-CalculoNumerico/blob/main/Metodo_Euler.ipynb\" target=\"_parent\"><img src=\"https://colab.research.google.com/assets/colab-badge.svg\" alt=\"Open In Colab\"/></a>"
      ]
    },
    {
      "cell_type": "code",
      "execution_count": 26,
      "metadata": {
        "colab": {
          "base_uri": "https://localhost:8080/"
        },
        "id": "iFywwdu3hnmD",
        "outputId": "e617245a-6202-4905-a9f1-2aefac6cd865"
      },
      "outputs": [
        {
          "output_type": "stream",
          "name": "stdout",
          "text": [
            "A equção diferencial é: y`- y=0\n",
            "Isolando o y: y`= y\n",
            "Equação de Euler: y = y + h * f(x ; y)\n",
            "0.1\n",
            "0.2\n",
            "0.3\n",
            "0.4\n",
            "0.5\n",
            "0.6\n",
            "0.7\n",
            "0.8\n",
            "0.9\n",
            "1.0\n",
            "A solução percorreu 10.0 iterações\n",
            "O valor para Y foi: 2.593743\n"
          ]
        }
      ],
      "source": [
        "# Equação diferencialpelo metodo de Euler\n",
        "\n",
        "#Definindo a equação\n",
        "print('A equção diferencial é: y`- y=0')\n",
        "print('Isolando o y: y`= y')\n",
        "\n",
        "#Definindo os parâmetros iniciais\n",
        "\n",
        "x = 0.0\n",
        "y = 1.0\n",
        "h = 0.1\n",
        "k = 0\n",
        "xS = 1.0\n",
        "print('Equação de Euler: y = y + h * f(x ; y)')\n",
        "#Iniciando as iterações\n",
        "while x != xS:\n",
        "  k = k + 1.0\n",
        "  y = round(y + ((h) * (y)), 6)\n",
        "  x = round(x + h,2)\n",
        "  print(x)\n",
        "else:\n",
        "  print('A solução percorreu '+str(k)+' iterações' )\n",
        "  print('O valor para Y foi: '+str(y))\n",
        "\n",
        "\n"
      ]
    }
  ]
}