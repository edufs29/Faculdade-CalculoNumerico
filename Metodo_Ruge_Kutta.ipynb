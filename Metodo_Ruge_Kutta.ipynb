{
  "nbformat": 4,
  "nbformat_minor": 0,
  "metadata": {
    "colab": {
      "name": "Metodo_Ruge-Kutta.ipynb",
      "provenance": [],
      "authorship_tag": "ABX9TyMjqM/EfVxYk0phDKDnWwSu",
      "include_colab_link": true
    },
    "kernelspec": {
      "name": "python3",
      "display_name": "Python 3"
    },
    "language_info": {
      "name": "python"
    }
  },
  "cells": [
    {
      "cell_type": "markdown",
      "metadata": {
        "id": "view-in-github",
        "colab_type": "text"
      },
      "source": [
        "<a href=\"https://colab.research.google.com/github/edufs29/Faculdade-CalculoNumerico/blob/main/Metodo_Ruge_Kutta.ipynb\" target=\"_parent\"><img src=\"https://colab.research.google.com/assets/colab-badge.svg\" alt=\"Open In Colab\"/></a>"
      ]
    },
    {
      "cell_type": "code",
      "execution_count": null,
      "metadata": {
        "id": "ws7HlBqg3HLy"
      },
      "outputs": [],
      "source": [
        "# Equação diferencialpelo metodo de Euler\n",
        "\n",
        "#Definindo a equação\n",
        "print('A equção diferencial é: y`-2x+y=0')\n",
        "print('Isolando o y: y`=2x-y')\n",
        "\n",
        "#Definindo os parâmetros iniciais\n",
        "\n",
        "x = 0.0\n",
        "y = 2.0\n",
        "h = 0.1\n",
        "k = 0\n",
        "xS = 0.1\n",
        "\n",
        "#Iniciando as iterações\n",
        "while x != xS:\n",
        "  k = k + 1.0\n",
        "  k1 = round(h * ((2*x) - y), 4)\n",
        "  k2 = round(h * (2*((x+h)/2)-(y+(k1/2))), 4)\n",
        "  k3 = round(h * ((2*(x+3/4*h))-(y+3/4*k2)), 4)\n",
        "  print(k1)\n",
        "  print(k2)\n",
        "  print(k3)\n",
        "  y = round((y + (2*k1/9) + (k2/3) + (4*k3/9)), 6)\n",
        "  x = round(x + h,2)\n",
        "  print(x)\n",
        "else:\n",
        "  print('A solução percorreu '+str(k)+' iterações' )\n",
        "  print('O valor para Y foi: '+str(y))\n",
        "\n",
        "\n"
      ]
    }
  ]
}