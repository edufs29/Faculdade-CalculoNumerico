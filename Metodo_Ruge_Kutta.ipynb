{
  "nbformat": 4,
  "nbformat_minor": 0,
  "metadata": {
    "colab": {
      "name": "Metodo_Ruge-Kutta.ipynb",
      "provenance": [],
      "authorship_tag": "ABX9TyMThwuVRf/uTMb3ZlNOBA+r",
      "include_colab_link": true
    },
    "kernelspec": {
      "name": "python3",
      "display_name": "Python 3"
    },
    "language_info": {
      "name": "python"
    }
  },
  "cells": [
    {
      "cell_type": "markdown",
      "metadata": {
        "id": "view-in-github",
        "colab_type": "text"
      },
      "source": [
        "<a href=\"https://colab.research.google.com/github/edufs29/Faculdade-CalculoNumerico/blob/main/Metodo_Ruge_Kutta.ipynb\" target=\"_parent\"><img src=\"https://colab.research.google.com/assets/colab-badge.svg\" alt=\"Open In Colab\"/></a>"
      ]
    },
    {
      "cell_type": "code",
      "execution_count": 5,
      "metadata": {
        "colab": {
          "base_uri": "https://localhost:8080/"
        },
        "id": "ws7HlBqg3HLy",
        "outputId": "323c9a72-b1d4-46af-993e-b79a4c45452c"
      },
      "outputs": [
        {
          "output_type": "stream",
          "name": "stdout",
          "text": [
            "A equção diferencial é: y`-x+y=0\n",
            "Isolando o y: y`=x-y\n",
            "-0.4\n",
            "-0.34\n",
            "-0.319\n",
            "0.2\n",
            "-0.2912\n",
            "-0.2421\n",
            "-0.2249\n",
            "0.4\n",
            "-0.2021\n",
            "-0.1619\n",
            "-0.1478\n",
            "0.6\n",
            "-0.1292\n",
            "-0.0963\n",
            "-0.0848\n",
            "0.8\n",
            "-0.0695\n",
            "-0.0426\n",
            "-0.0331\n",
            "1.0\n",
            "A solução percorreu 5.0 iterações\n",
            "O valor para Y foi: 1.10321\n"
          ]
        }
      ],
      "source": [
        "# Equação diferencialpelo metodo de Ruge-Kutta 3 ordem\n",
        "#Definindo a equação\n",
        "print('A equção diferencial é: y`-x+y=0')\n",
        "print('Isolando o y: y`=x-y')\n",
        "\n",
        "#Definindo os parâmetros iniciais\n",
        "\n",
        "x = 0.0\n",
        "y = 2.0\n",
        "h = 0.2\n",
        "k = 0\n",
        "xS = 1.0\n",
        "\n",
        "#Iniciando as iterações\n",
        "while x != xS:\n",
        "  k = k + 1.0\n",
        "  k1 = round(h * (x - y), 4)\n",
        "  k2 = round(h * ((x+(h/2))-(y+(k1/2))), 4)\n",
        "  k3 = round(h * ((x+(3/4*h))-(y+(3/4*k2))), 4)\n",
        "  print(k1)\n",
        "  print(k2)\n",
        "  print(k3)\n",
        "  y = round((y + (2*k1/9) + (k2/3) + (4*k3/9)), 6)\n",
        "  x = round(x + h,2)\n",
        "  print(x)\n",
        "else:\n",
        "  print('A solução percorreu '+str(k)+' iterações' )\n",
        "  print('O valor para Y foi: '+str(y))\n",
        "\n",
        "\n"
      ]
    }
  ]
}